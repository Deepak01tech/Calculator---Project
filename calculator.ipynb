{
 "cells": [
  {
   "cell_type": "code",
   "execution_count": 1,
   "id": "383bec51",
   "metadata": {},
   "outputs": [],
   "source": [
    "from tkinter import *\n",
    "import tkinter as tk\n",
    "from functools import partial\n",
    "root=Tk()\n",
    "w=Label(root,text='Please select operation-')\n",
    "w.place(x=0,y=0)\n",
    "w=Label(root,text='1.Add')\n",
    "w.place(x=50,y=20)\n",
    "w=Label(root,text='2.Subtract')\n",
    "w.place(x=50,y=40)\n",
    "w=Label(root,text='3.Multiply')\n",
    "w.place(x=50,y=60)\n",
    "w=Label(root,text='4.Divide')\n",
    "w.place(x=50,y=80)\n",
    "w=Label(root,text='5.Modulus')\n",
    "w.place(x=50,y=100)\n",
    "w=Label(root,text='6.Exponent')\n",
    "w.place(x=50,y=120)\n",
    "w=Label(root,text='7.Floor Division')\n",
    "w.place(x=50,y=140)\n",
    "\n",
    "root.title('Calculator')\n",
    "root.geometry(\"500x300\")\n",
    "\n",
    "Label(root, text='number1').place(x=50,y=160)\n",
    "Label(root, text='number2').place(x=50,y=180)\n",
    "Label(root, text=\"operation\").place(x=50,y=200)\n",
    "number1 = IntVar()\n",
    "number2 = IntVar()\n",
    "Opr = IntVar()\n",
    "EntryNumber1 = Entry(root, textvariable = number1)\n",
    "EntryNumber2 = Entry(root, textvariable = number2)\n",
    "EntryOpr = Entry(root, textvariable = Opr)\n",
    "EntryNumber1.place(x=120,y=160)\n",
    "EntryNumber2.place(x=120,y=180)\n",
    "EntryOpr.place(x=120,y=200)\n",
    "def Result(dyna,result):\n",
    "    result = calculate(Opr.get(),number1.get(),number2.get())\n",
    "    dyna.config(text='Result = {}'.format(result))\n",
    "dyna = Label(root)\n",
    "dyna.place(x=200,y=240)\n",
    "def calculate(Opr,number1,number2):\n",
    "    if Opr == 1:\n",
    "        return number1+number2\n",
    "    elif Opr == 2:\n",
    "        return number1-number2\n",
    "    elif Opr == 3:\n",
    "        return number1*number2\n",
    "    elif Opr == 4:\n",
    "        return number1/number2\n",
    "    elif Opr == 5:\n",
    "        return number1%number2\n",
    "    elif Opr == 6:\n",
    "        return number1**number2\n",
    "    elif Opr == 7:\n",
    "        return number1//number2\n",
    "result = None\n",
    "Result = partial(Result,dyna,result)\n",
    "button = Button(root, text=\"Calculate\", command=Result).place(x=50,y=220)\n",
    "root.mainloop()"
   ]
  },
  {
   "cell_type": "code",
   "execution_count": null,
   "id": "a0ac653c",
   "metadata": {},
   "outputs": [],
   "source": []
  },
  {
   "cell_type": "code",
   "execution_count": null,
   "id": "f9464cdf",
   "metadata": {},
   "outputs": [],
   "source": []
  },
  {
   "cell_type": "code",
   "execution_count": null,
   "id": "81e08d9b",
   "metadata": {},
   "outputs": [],
   "source": []
  },
  {
   "cell_type": "code",
   "execution_count": null,
   "id": "8c197797",
   "metadata": {},
   "outputs": [],
   "source": []
  }
 ],
 "metadata": {
  "kernelspec": {
   "display_name": "Python 3 (ipykernel)",
   "language": "python",
   "name": "python3"
  },
  "language_info": {
   "codemirror_mode": {
    "name": "ipython",
    "version": 3
   },
   "file_extension": ".py",
   "mimetype": "text/x-python",
   "name": "python",
   "nbconvert_exporter": "python",
   "pygments_lexer": "ipython3",
   "version": "3.9.7"
  }
 },
 "nbformat": 4,
 "nbformat_minor": 5
}
